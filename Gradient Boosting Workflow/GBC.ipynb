{
 "cells": [
  {
   "cell_type": "code",
   "execution_count": null,
   "id": "d892a51c",
   "metadata": {},
   "outputs": [],
   "source": [
    "# Libraries Introduce 引入数据库\n",
    "import pandas as pd\n",
    "import numpy as np\n",
    "import copy\n",
    "import shap\n",
    "import pymrmr\n",
    "import seaborn as sns \n",
    "import matplotlib as mpl\n",
    "import matplotlib.pyplot as plt\n",
    "mpl.rcParams[\"font.sans-serif\"] = [\"Times New Roman\"] # change font as Times New Roman\n",
    "\n",
    "from sklearn.ensemble import GradientBoostingClassifier\n",
    "from sklearn.model_selection import cross_val_score, train_test_split, StratifiedKFold, GridSearchCV\n",
    "from sklearn.feature_selection import VarianceThreshold\n",
    "from sklearn.metrics import confusion_matrix, accuracy_score, f1_score, roc_curve, auc, roc_auc_score, RocCurveDisplay\n",
    "\n",
    "from collections import defaultdict\n",
    "from rdkit import Chem\n",
    "from rdkit import DataStructs"
   ]
  },
  {
   "cell_type": "markdown",
   "id": "93281612",
   "metadata": {},
   "source": [
    "#### Dataset Input 数据读取"
   ]
  },
  {
   "cell_type": "code",
   "execution_count": null,
   "id": "79e8cce2",
   "metadata": {},
   "outputs": [],
   "source": [
    "# Dataset input 数据导入\n",
    "path = \"../Data/131 Exhaustion to PLA.xlsx\"\n",
    "nams = pd.read_excel(path, index_col = 0).index.values  # Dyes name introduce 读取染料名\n",
    "\n",
    "# Feature input 读取特征数据\n",
    "mac_fp = pd.read_csv(\"..\\Data\\model_maccs.csv\").iloc[:,1:]\n",
    "pub_fp = pd.read_csv(\"..\\Data\\model_pubchem.csv\").iloc[:,1:] \n",
    "sub_fp = pd.read_csv(\"..\\Data\\model_substructure.csv\").iloc[:,1:]\n",
    "suc_fp = pd.read_csv(\"..\\Data\\model_substructure count.csv\").iloc[:,1:]\n",
    "est_fp = pd.read_csv(\"..\\Data\\model_estate.csv\").iloc[:,1:]\n",
    "\n",
    "# Dyes name setting 设置染料名\n",
    "sub_fp.index = est_fp.index = mac_fp.index = pub_fp.index = suc_fp.index = nams\n",
    "esm_fp = pd.concat([mac_fp, pub_fp, sub_fp, suc_fp, est_fp], axis = 1) \n",
    "\n",
    "# Categories of high- or low-exhaustion染料分类\n",
    "exhs = pd.read_excel(path, index_col = 0)[\"Exhaustion\"]  # Exhaustion reading 读取上染率\n",
    "cate = [int(score//80) for score in exhs]  # Set high- or low-exhaustion threshold as 0.80 上染率高低阈值为 0.8"
   ]
  },
  {
   "cell_type": "markdown",
   "id": "aa938e71",
   "metadata": {},
   "source": [
    "#### Dataset Pretreatment 数据预处理"
   ]
  },
  {
   "cell_type": "code",
   "execution_count": null,
   "id": "65c141e4",
   "metadata": {},
   "outputs": [],
   "source": [
    "# Screening out features with 0 variance 筛除方差为0(所有值相同)的特征\n",
    "var = VarianceThreshold(threshold = 0)\n",
    "esm_fp2 = var.fit_transform(esm_fp)\n",
    "esm_fp2 = esm_fp.loc[:, var.get_support()]\n",
    "\n",
    "# Screening out features with pearson coefficient > 0.90 筛除皮尔森相关系数为0.90的特征\n",
    "corr_matrix = esm_fp2.corr(numeric_only = True).abs()\n",
    "upper = corr_matrix.where(np.triu(np.ones(corr_matrix.shape), k = 1).astype(bool))\n",
    "to_drop = [column for column in upper.columns if any(upper[column] > 0.9)]\n",
    "esm_fp3 = esm_fp2.drop(to_drop, axis = 1)"
   ]
  },
  {
   "cell_type": "markdown",
   "id": "3b828d94",
   "metadata": {},
   "source": [
    "#### Frequently Used Tool Definition 常用小组件"
   ]
  },
  {
   "cell_type": "code",
   "execution_count": null,
   "id": "35fa8852",
   "metadata": {},
   "outputs": [],
   "source": [
    "SKFold = StratifiedKFold(n_splits = 10, shuffle = True, random_state = 42)  # 10-fold stratified cross-validation\n",
    "SKFold_5 =  StratifiedKFold(n_splits = 5, shuffle = True, random_state = 42) # 05-fold stratified cross-validation\n",
    "criterion = {\"accuracy\":\"ACC\", \"f1_weighted\":\"F1\", \"roc_auc\":\"AUC\"}  # Validation metrics 评价标准参数\n",
    "\n",
    "# Splitting train- and test-set 训练、测试集分割\n",
    "fp_tra, fp_tes, cate_tra, cate_tes = train_test_split(esm_fp3, cate, train_size = 0.8, random_state = 41, stratify = cate)"
   ]
  },
  {
   "cell_type": "markdown",
   "id": "3f8a6266",
   "metadata": {},
   "source": [
    "#### Function Definetion 定义函数"
   ]
  },
  {
   "cell_type": "code",
   "execution_count": null,
   "id": "3970c662",
   "metadata": {},
   "outputs": [],
   "source": [
    "# mRMR function 定义mRMR函数\n",
    "def mrmr_selection(feature, target, num: int):\n",
    "    mrmr_feas = []\n",
    "    feature_mrmr = feature.copy()\n",
    "    feature_mrmr.insert(loc = 0,column = \"Category\",value = target)\n",
    "    mrmr_feas = pymrmr.mRMR(feature_mrmr, 'MIQ', num)\n",
    "    return mrmr_feas\n",
    "\n",
    "# Stratified cross-validation function 定义分层交叉验证性能函数\n",
    "def skfold_perf(n, model, X_data, y_data):\n",
    "    performance = []\n",
    "    SKFold = StratifiedKFold(n_splits = n, shuffle = True, random_state = 42)  # N-fold stratified cross-validation n折分层交叉验证\n",
    "    criterion = {\"accuracy\":\"ACC\", \"f1_weighted\":\"F1\", \"roc_auc\":\"AUC\"}  # Validation metrics 评价标准参数\n",
    "    for scoring in criterion:\n",
    "        answer = cross_val_score(model, X_data, np.array(y_data).ravel(), cv = SKFold, scoring = scoring)\n",
    "        performance.append(answer.mean().round(3))\n",
    "    return performance\n",
    "\n",
    "# Confusion matrix drawing function 定义混淆矩阵绘图函数\n",
    "def cm_drawing(n:int, model, X_data, y_data:list): # N: fold of stratified cross-validation n:分层交叉验证折数\n",
    "    X = X_data.astype(\"float\")\n",
    "    Y = np.array(y_data).ravel()\n",
    "    \n",
    "    predictions = defaultdict(list)  # 建立空字典记录\n",
    "    \n",
    "    SKFold = StratifiedKFold(n_splits = n, shuffle = True, random_state = 42)  # 交叉验证方法\n",
    "    for train_index, test_index in SKFold.split(X, Y):  \n",
    "        X_train, X_test = X.iloc[train_index, :], X.iloc[test_index, :]  \n",
    "        Y_train, Y_test = Y[train_index], Y[test_index] \n",
    "        model.fit(X_train, Y_train)  \n",
    "        Y_pred = model.predict(X_test)  \n",
    "        predictions['pred'].extend(Y_pred)  # record key and value 记录字典中键值对\n",
    "        predictions['test'].extend(Y_test) \n",
    "        \n",
    "    cm = confusion_matrix(predictions[\"test\"], predictions[\"pred\"])  # confusion matrix 混淆矩阵   \n",
    "    sns.set_theme(style = \"whitegrid\",font = 'Times New Roman', font_scale = 2)  # drawing via seaborn seaborn绘制混淆矩阵\n",
    "    plt.figure()  \n",
    "    sns.heatmap(cm, annot = True, fmt = \".2g\", cmap = \"viridis\", linewidths = 3, vmin = 0, vmax = 60,\n",
    "                linecolor = \"white\", square = True)\n",
    "    plt.xlabel(\"Predicted Class\", fontsize = 20)  \n",
    "    plt.ylabel(\"Experimental Class\", fontsize = 20)  \n",
    "    plt.show()\n",
    "\n",
    "# ROC curve drawing function ROC曲线绘制函数\n",
    "def cv_roc_drawing(n:int, model, X_data, y_data): # n 折数；model 训练完成的模型；X_data, y_data 数据\n",
    "    tprs = []  # Recording True Positive Rate 记录真正率\n",
    "    aucs = []  # Recording AUC value 记录AUC值\n",
    "    mean_fpr = np.linspace(0, 1, 100)\n",
    "    \n",
    "    SKF = StratifiedKFold(n_splits = n, shuffle = True, random_state = 42)\n",
    "    fig, ax = plt.subplots(figsize = (15, 15))\n",
    "    for i, (train_index, test_index) in enumerate(SKF.split(X_data, y_data)):\n",
    "        X_train, X_test = X.iloc[train_index, :], X.iloc[test_index, :]  \n",
    "        Y_train, Y_test = Y[train_index], Y[test_index] \n",
    "\n",
    "        model.fit(X_train, Y_train)\n",
    "        viz = RocCurveDisplay.from_estimator(model, X_test, Y_test, name = \"ROC fold{}\".format(i), alpha = 0.5,\n",
    "                                             lw = 4, ax = ax)\n",
    "        interp_tpr = np.interp(mean_fpr, viz.fpr, viz.tpr)\n",
    "        interp_tpr[0] = 0.0\n",
    "        tprs.append(interp_tpr)\n",
    "        aucs.append(viz.roc_auc)\n",
    "\n",
    "    mean_tpr = np.mean(tprs, axis = 0)\n",
    "    mean_tpr[-1] = 1.0\n",
    "    mean_auc = auc(mean_fpr, mean_tpr)\n",
    "    std_auc = np.std(aucs)\n",
    "\n",
    "    ax.plot(mean_fpr, mean_tpr, color = \"blue\", label = r\"Mean ROC(AUC = %0.2f ± %0.2f)\" % (mean_auc, std_auc),\n",
    "            lw = 8, alpha = 0.9)\n",
    "\n",
    "    std_tpr = np.std(tprs, axis = 0)\n",
    "    tprs_upper = np.minimum(mean_tpr + std_tpr, 1)\n",
    "    tprs_lower = np.maximum(mean_tpr - std_tpr, 0)\n",
    "    ax.fill_between(mean_fpr, tprs_lower, tprs_upper, color = \"grey\", alpha = .2, label = \"± 1 std. dev.\")\n",
    "\n",
    "    ax.set(xlim = [-0.05, 1.05], ylim = [-0.05, 1.05])\n",
    "    ax.axis(\"square\")\n",
    "    ax.grid()  # Dropping grid line 去除网格线\n",
    "    ax.legend(loc = \"lower right\")\n",
    "    ticks = [0.0, 0.2, 0.4, 0.6, 0.8, 1.0]\n",
    "    ax.set_xlabel(\"False Positive Rate\", labelpad = 15, fontsize = 50, fontweight = \"bold\") # Distance of line and caption 拉开轴标题与刻度线距离\n",
    "    ax.set_ylabel(\"True Positive Rate\", labelpad = 15, fontsize = 50, fontweight = \"bold\")\n",
    "    ax.set_xticks(ticks, labels = ticks, fontsize = 50, fontweight = \"bold\") # Scale setting 设置刻度\n",
    "    ax.set_yticks(ticks, labels = ticks, fontsize = 50, fontweight = \"bold\")\n",
    "    plt.setp(ax.spines.values(), linewidth = 4, color = \"black\") # Line thickness setting 设置边框粗细\n",
    "    plt.plot([0, 1], [0, 1], linestyle = \"--\", color = \"black\", alpha = 0.8, lw = 4) # Diagonal drawing 绘制对角线\n",
    "    plt.tick_params(axis = \"both\", length = 10, width = 4)  # Scale thickness and longth setting 设置刻度的粗细和长度\n",
    "    # plt.savefig(f\"{n}-fold ROC.png\", dpi = 300)  # Save pic before show() 保存图片，在show()之前\n",
    "\n",
    "    plt.show()"
   ]
  },
  {
   "cell_type": "markdown",
   "id": "0eb9e331",
   "metadata": {},
   "source": [
    "#### 10-fold Stratified Cross-validation 10折分层交叉验证"
   ]
  },
  {
   "cell_type": "code",
   "execution_count": null,
   "id": "c0f33658",
   "metadata": {},
   "outputs": [],
   "source": [
    "X = fp_tra.astype(\"float\") \n",
    "Y = np.array(cate_tra).ravel()\n",
    "GB = GradientBoostingClassifier(random_state = 42)\n",
    "\n",
    "# Performance output 验证性能\n",
    "print(\"原始训练集10折分层交叉验证性能:{}\".format(skfold_perf(10, GB, X, Y)))\n",
    "\n",
    "# Confusion matrix 混淆矩阵\n",
    "cm_drawing(10, GB, X, Y)"
   ]
  },
  {
   "cell_type": "markdown",
   "id": "0d064a6e",
   "metadata": {},
   "source": [
    "#### Feature Engineering 特征筛选"
   ]
  },
  {
   "cell_type": "code",
   "execution_count": null,
   "id": "e4503b4b-dd83-4258-b81e-c2eb4e42361e",
   "metadata": {},
   "outputs": [],
   "source": [
    "# Performance when fea_num = [10:40:10] and [5:15:1] 特征数在[10:40:10]、[5:15:1]的模型性能\n",
    "for fn in range(10, 41, 10):\n",
    "    prin_fp = mrmr_selection(fp_tra, cate_tra, fn)\n",
    "    fe_tra = fp_tra.loc[:,prin_fp] \n",
    "    sel_pef = []  # Matainning variables 维护变量\n",
    "    for scoring in criterion:\n",
    "        answer = cross_val_score(GB, fe_tra, np.array(cate_tra).ravel(), cv = SKFold, scoring = scoring)\n",
    "        sel_pef.append(answer.mean().round(3))"
   ]
  },
  {
   "cell_type": "code",
   "execution_count": null,
   "id": "5047cef4-eab3-43b3-a82e-8b0d25ff8075",
   "metadata": {},
   "outputs": [],
   "source": [
    "# Best fea_num 11 最佳特征数为 11\n",
    "prin_fp = mrmr_selection(fp_tra, cate_tra, 11)\n",
    "fe_tra = fp_tra.loc[:,prin_fp] "
   ]
  },
  {
   "cell_type": "markdown",
   "id": "89895b21",
   "metadata": {},
   "source": [
    "#### Model Optimization 模型优化"
   ]
  },
  {
   "cell_type": "raw",
   "id": "31cabba9-3ce9-4f4f-ada5-7ee319d194f1",
   "metadata": {},
   "source": [
    "# 11：n_estimators\n",
    "param_test1 = {\"n_estimators\": range(10,81,10)}\n",
    "gsearch1 = GridSearchCV(estimator = GradientBoostingClassifier(random_state = 42,learning_rate = 0.1,\n",
    "                                                               min_samples_split =1,max_depth = 5,\n",
    "                                                               max_features = \"sqrt\",subsample = 0.8),\n",
    "                        param_grid  = param_test1,cv = SKFold,scoring = \"f1_weighted\")\n",
    "gsearch1.fit(fe_tra,np.array(cate_tra).ravel())\n",
    "print(gsearch1.best_params_,gsearch1.best_score_.round(3))  # n_estimator = 40 --> [0.865, 0.858, 0.891]\n",
    "\n",
    "# 22：max_depth、min_samples_split \n",
    "param_test2 = {\"max_depth\":range(1,8,2), \"min_samples_split\":range(1,15,2)}\n",
    "gsearch2 = GridSearchCV(estimator = GradientBoostingClassifier(random_state = 42,learning_rate = 0.1,\n",
    "                                                               max_features = \"sqrt\",subsample = 0.8,\n",
    "                                                               n_estimators = 40),\n",
    "                        param_grid  = param_test2,cv = SKFold,scoring = \"f1_weighted\")\n",
    "gsearch2.fit(fe_tra, np.array(cate_tra).ravel())\n",
    "print(gsearch2.best_params_,gsearch2.best_score_.round(3))  # max_depth = 5; min_samples_split = 13 --> [0.875, 0.868, 0.898]\n",
    "\n",
    "# 33：min_samples_leaf\n",
    "param_test3 = {\"min_samples_leaf\":range(1,10,1)}\n",
    "gsearch3 = GridSearchCV(estimator = GradientBoostingClassifier(random_state = 42,learning_rate = 0.1,\n",
    "                                                               max_depth = 5, min_samples_split = 13,\n",
    "                                                               max_features = \"sqrt\",subsample = 0.8,\n",
    "                                                               n_estimators = 40),\n",
    "                        param_grid  = param_test3,cv = SKFold,scoring = \"f1_weighted\")\n",
    "gsearch3.fit(fe_tra, np.array(cate_tra).ravel())\n",
    "print(gsearch3.best_params_, gsearch3.best_score_.round(3))  # min_samples_leaf = 1 --> [0.875, 0.868, 0.898]\n",
    "\n",
    "# 44：max_features\n",
    "param_test4 = {'max_features':range(1,11,1)}\n",
    "gsearch4 = GridSearchCV(estimator = GradientBoostingClassifier(random_state = 42,learning_rate = 0.1,\n",
    "                                                               max_depth = 5, min_samples_split = 13,\n",
    "                                                               subsample = 0.8, n_estimators = 40),\n",
    "                        param_grid  = param_test4,cv = SKFold,scoring = \"f1_weighted\")\n",
    "gsearch4.fit(fe_tra, np.array(cate_tra).ravel())\n",
    "print(gsearch4.best_params_, gsearch4.best_score_.round(3))  # max_features = 3、1\n",
    "# [0.875, 0.868, 0.898] 、[0.845, 0.836, 0.904]"
   ]
  },
  {
   "cell_type": "markdown",
   "id": "61586217",
   "metadata": {},
   "source": [
    "#### Final Model 最终模型"
   ]
  },
  {
   "cell_type": "code",
   "execution_count": null,
   "id": "dac9d95d-550c-4ed2-8750-d1eb37b9e132",
   "metadata": {},
   "outputs": [],
   "source": [
    "X = fe_tra.astype(\"float\") \n",
    "Y = np.array(cate_tra).ravel()\n",
    "GB = GradientBoostingClassifier(random_state = 42, learning_rate = 0.1, min_samples_split =13, \n",
    "                                min_samples_leaf = 1,max_depth = 5, max_features = 3, subsample = 0.8, \n",
    "                                n_estimators = 40)"
   ]
  },
  {
   "cell_type": "markdown",
   "id": "2e8bb629",
   "metadata": {},
   "source": [
    "#### 10- and 5-fold Stratified Cross-validation 10折、5折分层交叉"
   ]
  },
  {
   "cell_type": "code",
   "execution_count": null,
   "id": "691bb4c6-7ed0-4fef-bfc8-39a5de5a600e",
   "metadata": {},
   "outputs": [],
   "source": [
    "# 10-fold 10折\n",
    "ans_10 = skfold_perf(10, GB, X, Y)  # Validation performance 验证性能\n",
    "print(\"Acc:{}, F1 score:{}, AUC:{}\".format(ans_10[0], ans_10[1], ans_10[2]))\n",
    "print(\"10-fold confusion matrix:\")\n",
    "cm_drawing(10, GB, X, Y)  # confusion matrix 混淆矩阵"
   ]
  },
  {
   "cell_type": "code",
   "execution_count": null,
   "id": "56fc7eb3-3928-4e9b-a6b4-aa1286d81bc6",
   "metadata": {},
   "outputs": [],
   "source": [
    "# 05-fold 05折\n",
    "ans_05 = skfold_perf(5, GB, X, Y)  # Validation performance 验证性能\n",
    "print(\"Acc:{}, F1:{}, AUC:{}\".format(ans_05[0], ans_05[1], ans_05[2]))\n",
    "print(\"05-fold confusion matrix:\")\n",
    "cm_drawing(5, GB, X, Y) "
   ]
  },
  {
   "cell_type": "markdown",
   "id": "14252b60",
   "metadata": {},
   "source": [
    "#### 10- and 5-fold Stratified Cross-validation ROC 10折、5折分层交叉ROC曲线"
   ]
  },
  {
   "cell_type": "code",
   "execution_count": null,
   "id": "30cf1e2e-50e5-4dba-ab19-c2cbe4460ea0",
   "metadata": {
    "scrolled": true
   },
   "outputs": [],
   "source": [
    "cv_roc_drawing(10, GB, X, Y)\n",
    "cv_roc_drawing(5, GB, X, Y)"
   ]
  },
  {
   "cell_type": "markdown",
   "id": "e2113c33",
   "metadata": {},
   "source": [
    "#### Test-set Validation 测试集验证"
   ]
  },
  {
   "cell_type": "code",
   "execution_count": null,
   "id": "0d21cfcc-b505-4aab-a28c-6a787760dcfb",
   "metadata": {},
   "outputs": [],
   "source": [
    "GB = GradientBoostingClassifier(random_state = 42, learning_rate = 0.1, min_samples_split =13, \n",
    "                                min_samples_leaf = 1,max_depth = 5, max_features = 3, subsample = 0.8, \n",
    "                                n_estimators = 40)\n",
    "GB.fit(fe_tra, cate_tra)\n",
    "cate_pre = GB.predict(fp_tes[fe_tra.columns])\n",
    "cate_score = GB.predict_proba(fp_tes[fe_tra.columns])[:, 1]  # Categories possibility 样本的类别预测概率\n",
    "\n",
    "print(\"Acc:{:.2f}, F1 score:{:.2f}, AUC:{:.2f}\".format(accuracy_score(cate_tes, cate_pre), \n",
    "                                                   f1_score(cate_tes, cate_pre, average = \"weighted\"),\n",
    "                                                   roc_auc_score(cate_tes, cate_score, average = \"macro\")))\n",
    "\n",
    "cm_t = confusion_matrix(cate_tes, cate_pre)  # Confusion matrix 混淆矩阵\n",
    "print(cm_t)"
   ]
  },
  {
   "cell_type": "markdown",
   "id": "d2c9dcd0",
   "metadata": {},
   "source": [
    "#### Test-set Validation ROC 测试集ROC曲线"
   ]
  },
  {
   "cell_type": "code",
   "execution_count": null,
   "id": "bd12e7b7",
   "metadata": {},
   "outputs": [],
   "source": [
    "plt.figure(figsize = (15, 15))\n",
    "ax = plt.gca()\n",
    "# ax.plot([0, 1], [0, 1], linestyle = \"--\", color = \"black\", label = \"Chance level\")\n",
    "GB_ROC = RocCurveDisplay.from_estimator(GB, fp_tes[fe_tra.columns], cate_tes, color = \"blue\",ax = ax,\n",
    "                                        lw = 8, plot_chance_level = False)\n",
    "ax.grid()\n",
    "plt.legend(loc = \"lower right\")  # show legend and location setting 显示图例并控制位置\n",
    "ticks = [0.0, 0.2, 0.4, 0.6, 0.8, 1.0]\n",
    "ax.set_xlabel(\"False Positive Rate\", labelpad = 15, fontsize = 50, fontweight = \"bold\") # Distance of line and caption 拉开轴标题与刻度线距离\n",
    "ax.set_ylabel(\"True Positive Rate\", labelpad = 15, fontsize = 50, fontweight = \"bold\")\n",
    "ax.set_xticks(ticks, labels = ticks, fontsize = 50, fontweight = \"bold\") # Scale setting 设置刻度\n",
    "ax.set_yticks(ticks, labels = ticks, fontsize = 50, fontweight = \"bold\")\n",
    "plt.setp(ax.spines.values(), linewidth = 4, color = \"black\") # Line thickness setting 设置边框粗细\n",
    "plt.plot([0, 1], [0, 1], linestyle = \"--\", color = \"black\", alpha = 0.8, lw = 4) # Diagonal drawing 绘制对角线\n",
    "plt.tick_params(axis = \"both\", length = 10, width = 4)  # Scale thickness and length setting 设置刻度的粗细和长度\n",
    "# plt.savefig(\"Test ROC.png\", dpi = 300)\n",
    "plt.show()"
   ]
  },
  {
   "cell_type": "markdown",
   "id": "9757e788",
   "metadata": {},
   "source": [
    "#### External-set Validation 外部集验证"
   ]
  },
  {
   "cell_type": "code",
   "execution_count": null,
   "id": "05977ccd-e442-420e-acf5-6149232b47e3",
   "metadata": {},
   "outputs": [],
   "source": [
    "GB = GradientBoostingClassifier(random_state = 42, learning_rate = 0.1, min_samples_split =13, \n",
    "                                min_samples_leaf = 1,max_depth = 5, max_features = 3, subsample = 0.8, \n",
    "                                n_estimators = 40)\n",
    "GB.fit(fe_tra, cate_tra)\n",
    "# External-set Input 读取外部集描述符\n",
    "emac_fp = pd.read_csv(\"../Fingerprints/e_maccs.csv\").iloc[:,1:] \n",
    "epub_fp = pd.read_csv(\"../Fingerprints/e_pubchem.csv\").iloc[:,1:] \n",
    "esub_fp = pd.read_csv(\"../Fingerprints/e_substructure.csv\").iloc[:,1:]\n",
    "esuc_fp = pd.read_csv(\"../Fingerprints/e_substructure count.csv\").iloc[:,1:]\n",
    "\n",
    "# Features intergration 整合描述符\n",
    "eesm_fp = pd.concat([emac_fp, epub_fp, esub_fp, esuc_fp], axis = 1) \n",
    "\n",
    "# External-set validation 外部集验证\n",
    "cate_pre = GB.predict(eesm_fp[fe_tra.columns])\n",
    "cate_score = GB.predict_proba(eesm_fp[fe_tra.columns])[:, 1]  # Categories possibility 样本的类别预测概率\n",
    "\n",
    "cate_ext = [0,0,0,0,1,0,0,0,0,1,0,0,0,0,0]\n",
    "\n",
    "print(\"True Label\", cate_ext)\n",
    "print(\"Pred Label\", list(cate_pre))\n",
    "print(\"Label Possibility\", list(map(lambda i: round(i, 2), cate_score)))\n",
    "print(\"ACC:{:.3f}, F1 score:{:.3f}, AUC:{:.3f}\".format(accuracy_score(cate_ext, cate_pre), f1_score(cate_ext, cate_pre, average = \"weighted\"),\n",
    "                                                       roc_auc_score(cate_ext, cate_score, average = \"macro\")))\n",
    "\n",
    "cm_e = confusion_matrix(cate_ext, cate_pre)  # Confusion matrix 混淆矩阵\n",
    "print(cm_e)"
   ]
  },
  {
   "cell_type": "markdown",
   "id": "db5c4da2-7b45-43fc-9f5c-66901865474b",
   "metadata": {},
   "source": [
    "#### External-set Validation ROC 外部集ROC曲线"
   ]
  },
  {
   "cell_type": "code",
   "execution_count": null,
   "id": "94352dd7-0ac3-42b6-997b-43624dfaff77",
   "metadata": {},
   "outputs": [],
   "source": [
    "plt.figure(figsize = (15, 15))\n",
    "ax = plt.gca()\n",
    "# ax.plot([0, 1], [0, 1], linestyle = \"--\", color = \"black\", label = \"Chance level\")\n",
    "GB_ROC = RocCurveDisplay.from_estimator(GB, eesm_fp[fe_tra.columns], cate_ext, color = \"blue\",ax = ax,\n",
    "                                        lw = 8, plot_chance_level = False)\n",
    "ax.grid()\n",
    "plt.legend(loc = \"lower right\")  # show legend and location setting 显示图例并控制位置\n",
    "ticks = [0.0, 0.2, 0.4, 0.6, 0.8, 1.0]\n",
    "ax.set_xlabel(\"False Positive Rate\", labelpad = 15, fontsize = 50, fontweight = \"bold\") # Distance of line and caption 拉开轴标题与刻度线距离\n",
    "ax.set_ylabel(\"True Positive Rate\", labelpad = 15, fontsize = 50, fontweight = \"bold\")\n",
    "ax.set_xticks(ticks, labels = ticks, fontsize = 50, fontweight = \"bold\") # Scale setting 设置刻度\n",
    "ax.set_yticks(ticks, labels = ticks, fontsize = 50, fontweight = \"bold\")\n",
    "plt.setp(ax.spines.values(), linewidth = 4, color = \"black\") # Line thickness setting 设置边框粗细\n",
    "plt.plot([0, 1], [0, 1], linestyle = \"--\", color = \"black\", alpha = 0.8, lw = 4) # Diagonal drawing 绘制对角线\n",
    "plt.tick_params(axis = \"both\", length = 10, width = 4)  # Scale thickness and length setting 设置刻度的粗细和长度\n",
    "# plt.savefig(\"External ROC.png\", dpi = 300)\n",
    "plt.show()"
   ]
  },
  {
   "cell_type": "markdown",
   "id": "654ce6f2",
   "metadata": {},
   "source": [
    "#### SHAP Interpretation SHAP解释"
   ]
  },
  {
   "cell_type": "code",
   "execution_count": null,
   "id": "de2ce31d-5e32-4a95-998e-4592063e9810",
   "metadata": {
    "scrolled": true
   },
   "outputs": [],
   "source": [
    "shap.initjs() # SHAP motivation 启动解释器\n",
    "explainer = shap.Explainer(GB.predict, fe_tra)  # Interpreter setting 设置解释器\n",
    "shap_values = explainer(fe_tra)\n",
    "\n",
    "# 1.Feature importance ranking 特征重要性排序\n",
    "plt.grid(False)\n",
    "shap.summary_plot(shap_values, fe_tra, plot_type = \"bar\", show = False)  # show = False for pic saving\n",
    "# plt.savefig(\"summary_plot.png\", bbox_inches=\"tight\", dpi = 500) # DPI setting 设置分辨率\n",
    "# MACCS108：CH3AAACH2A # SubFP32：Secondary mixed amine\n",
    "# SubFPC295：C ONS bond # Pubchem466：N#C-C=C "
   ]
  },
  {
   "cell_type": "code",
   "execution_count": null,
   "id": "ffd292d1-82e8-421a-8046-8de90bdae203",
   "metadata": {
    "scrolled": true
   },
   "outputs": [],
   "source": [
    "# 2.Feature bee-warm ranking 特征蜂群图\n",
    "shap.plots.beeswarm(shap_values, max_display = 11, show = False)\n",
    "plt.grid()\n",
    "# plt.savefig(\"beeswarm.png\", bbox_inches=\"tight\", dpi = 500)"
   ]
  }
 ],
 "metadata": {
  "kernelspec": {
   "display_name": "machine",
   "language": "python",
   "name": "machine"
  },
  "language_info": {
   "codemirror_mode": {
    "name": "ipython",
    "version": 3
   },
   "file_extension": ".py",
   "mimetype": "text/x-python",
   "name": "python",
   "nbconvert_exporter": "python",
   "pygments_lexer": "ipython3",
   "version": "3.8.20"
  }
 },
 "nbformat": 4,
 "nbformat_minor": 5
}
