{
 "cells": [
  {
   "cell_type": "code",
   "execution_count": null,
   "id": "962381ff-20d8-4791-9327-c77ead58cdde",
   "metadata": {},
   "outputs": [],
   "source": [
    "import pandas as pd\n",
    "import numpy as np\n",
    "import copy\n",
    "import pymrmr\n",
    "import seaborn as sns \n",
    "import matplotlib as mpl\n",
    "import matplotlib.pyplot as plt\n",
    "mpl.rcParams[\"font.sans-serif\"] = [\"Times New Roman\"] # change font as Times New Roman\n",
    "\n",
    "from sklearn.ensemble import GradientBoostingClassifier\n",
    "from sklearn.model_selection import cross_val_score, train_test_split, StratifiedKFold, GridSearchCV\n",
    "from sklearn.feature_selection import VarianceThreshold\n",
    "from sklearn.metrics import confusion_matrix, accuracy_score, f1_score, roc_curve, auc, roc_auc_score, RocCurveDisplay\n",
    "\n",
    "from collections import defaultdict\n",
    "from rdkit import Chem\n",
    "from rdkit import DataStructs"
   ]
  },
  {
   "cell_type": "markdown",
   "id": "93281612",
   "metadata": {},
   "source": [
    "#### Dataset Input 数据读取"
   ]
  },
  {
   "cell_type": "code",
   "execution_count": null,
   "id": "34188867-d8c3-4acb-bc83-1f477448408e",
   "metadata": {},
   "outputs": [],
   "source": [
    "path = \"../Data/131 Exhaustion to PLA.xlsx\"\n",
    "nams = pd.read_excel(path, index_col = 0).index.values\n",
    "typs = pd.read_excel(path, index_col = 0)[\"Type\"]\n",
    "\n",
    "azos = [ind for ind, typ in enumerate(typs) if typ == \"单偶氮\"]\n",
    "anqs = [ind for ind, typ in enumerate(typs) if typ == \"蒽醌\"]\n",
    "oths = [ind for ind, typ in enumerate(typs) if typ != \"单偶氮\" and typ != \"蒽醌\"]"
   ]
  },
  {
   "cell_type": "code",
   "execution_count": null,
   "id": "e5e1092b-bf17-48e9-a9b4-45e974640d58",
   "metadata": {},
   "outputs": [],
   "source": [
    "mac_fp = pd.read_csv(\"..\\Data\\model_maccs.csv\").iloc[:,1:]\n",
    "pub_fp = pd.read_csv(\"..\\Data\\model_pubchem.csv\").iloc[:,1:] \n",
    "sub_fp = pd.read_csv(\"..\\Data\\model_substructure.csv\").iloc[:,1:]\n",
    "suc_fp = pd.read_csv(\"..\\Data\\model_substructure count.csv\").iloc[:,1:]\n",
    "est_fp = pd.read_csv(\"..\\Data\\model_estate.csv\").iloc[:,1:]\n",
    "\n",
    "sub_fp.index = est_fp.index = mac_fp.index = pub_fp.index = suc_fp.index = nams\n",
    "esm_fp = pd.concat([mac_fp, pub_fp, sub_fp, suc_fp, est_fp], axis = 1)\n",
    "\n",
    "exhs = pd.read_excel(path, index_col = 0)[\"Exhaustion\"]\n",
    "cate = [int(score//80) for score in exhs]"
   ]
  },
  {
   "cell_type": "markdown",
   "id": "aa938e71",
   "metadata": {},
   "source": [
    "#### Dataset Pretreatment 数据预处理"
   ]
  },
  {
   "cell_type": "code",
   "execution_count": null,
   "id": "e29b03f7-4619-4142-8c8e-abf48d776822",
   "metadata": {},
   "outputs": [],
   "source": [
    "var = VarianceThreshold(threshold = 0)\n",
    "esm_fp2 = var.fit_transform(esm_fp)\n",
    "esm_fp2 = esm_fp.loc[:, var.get_support()]\n",
    "\n",
    "corr_matrix = esm_fp2.corr(numeric_only = True).abs()\n",
    "upper = corr_matrix.where(np.triu(np.ones(corr_matrix.shape), k = 1).astype(bool))\n",
    "to_drop = [column for column in upper.columns if any(upper[column] > 0.9)]\n",
    "esm_fp3 = esm_fp2.drop(to_drop, axis = 1)"
   ]
  },
  {
   "cell_type": "code",
   "execution_count": null,
   "id": "d201b84c-60ab-4c03-9564-d52b4eafb7ef",
   "metadata": {},
   "outputs": [],
   "source": [
    "SKFold = StratifiedKFold(n_splits = 10, shuffle = True, random_state = 42)\n",
    "SKFold_5 =  StratifiedKFold(n_splits = 5, shuffle = True, random_state = 42)\n",
    "criterion = {\"accuracy\":\"ACC\", \"f1_weighted\":\"F1\", \"roc_auc\":\"AUC\"}\n",
    "\n",
    "fp_tra, fp_tes, cate_tra, cate_tes = train_test_split(esm_fp3, cate, train_size = 0.8, random_state = 41, stratify = cate)"
   ]
  },
  {
   "cell_type": "markdown",
   "id": "3f8a6266",
   "metadata": {},
   "source": [
    "#### Function Definetion 定义函数"
   ]
  },
  {
   "cell_type": "code",
   "execution_count": null,
   "id": "2fe9e9eb-2155-44b4-9d3d-cf10a10dda29",
   "metadata": {},
   "outputs": [],
   "source": [
    "# mRMR function 定义mRMR函数\n",
    "def mrmr_selection(feature, target, num: int):\n",
    "    mrmr_feas = []\n",
    "    feature_mrmr = feature.copy()\n",
    "    feature_mrmr.insert(loc = 0,column = \"Category\",value = target)\n",
    "    mrmr_feas = pymrmr.mRMR(feature_mrmr, 'MIQ', num)\n",
    "    return mrmr_feas\n",
    "\n",
    "# Stratified cross-validation function 定义分层交叉验证性能函数\n",
    "def skfold_perf(n, model, X_data, y_data):\n",
    "    performance = []\n",
    "    SKFold = StratifiedKFold(n_splits = n, shuffle = True, random_state = 42)  # N-fold  N折分层交叉验证\n",
    "    criterion = {\"accuracy\":\"ACC\", \"f1_weighted\":\"F1\", \"roc_auc\":\"AUC\"}  # Validation metrics 评价标准参数\n",
    "    for scoring in criterion:\n",
    "        answer = cross_val_score(model, X_data, np.array(y_data).ravel(), cv = SKFold, scoring = scoring)\n",
    "        performance.append(answer.mean().round(3))\n",
    "    return performance\n",
    "\n",
    "# Confusion matrix drawing function 定义混淆矩阵绘图函数\n",
    "def cm_drawing(n:int, model, X_data, y_data:list): # N: fold of stratified cross-validation n:分层交叉验证折数\n",
    "    X = X_data.astype(\"float\")\n",
    "    Y = np.array(y_data).ravel()\n",
    "    \n",
    "    predictions = defaultdict(list)  # 建立空字典记录\n",
    "    \n",
    "    SKFold = StratifiedKFold(n_splits = n, shuffle = True, random_state = 42)  # 交叉验证方法\n",
    "    for train_index, test_index in SKFold.split(X, Y):  \n",
    "        X_train, X_test = X.iloc[train_index, :], X.iloc[test_index, :]  \n",
    "        Y_train, Y_test = Y[train_index], Y[test_index] \n",
    "        model.fit(X_train, Y_train)  \n",
    "        Y_pred = model.predict(X_test)  \n",
    "        predictions['pred'].extend(Y_pred)  # record key and value 记录字典中键值对\n",
    "        predictions['test'].extend(Y_test) \n",
    "        \n",
    "    cm = confusion_matrix(predictions[\"test\"], predictions[\"pred\"])  # confusion matrix 混淆矩阵   \n",
    "    sns.set_theme(style = \"whitegrid\",font = 'Times New Roman', font_scale = 2)  # drawing via seaborn seaborn绘制混淆矩阵\n",
    "    plt.figure()  \n",
    "    sns.heatmap(cm, annot = True, fmt = \".2g\", cmap = \"viridis\", linewidths = 3, vmin = 0, vmax = 60,\n",
    "                linecolor = \"white\", square = True)\n",
    "    plt.xlabel(\"Predicted Class\", fontsize = 20)  \n",
    "    plt.ylabel(\"Experimental Class\", fontsize = 20)  \n",
    "    plt.show()\n",
    "\n",
    "# ROC curve drawing function ROC曲线绘制函数\n",
    "def cv_roc_drawing(n:int, model, X_data, y_data): # n 折数；model 训练完成的模型；X_data, y_data 数据\n",
    "    tprs = []  # Recording True Positive Rate 记录真正率\n",
    "    aucs = []  # Recording AUC value 记录AUC值\n",
    "    mean_fpr = np.linspace(0, 1, 100)\n",
    "    \n",
    "    SKF = StratifiedKFold(n_splits = n, shuffle = True, random_state = 42)\n",
    "    fig, ax = plt.subplots(figsize = (15, 15))\n",
    "    for i, (train_index, test_index) in enumerate(SKF.split(X_data, y_data)):\n",
    "        X_train, X_test = X.iloc[train_index, :], X.iloc[test_index, :]  \n",
    "        Y_train, Y_test = Y[train_index], Y[test_index] \n",
    "\n",
    "        model.fit(X_train, Y_train)\n",
    "        viz = RocCurveDisplay.from_estimator(model, X_test, Y_test, name = \"ROC fold{}\".format(i), alpha = 0.5,\n",
    "                                             lw = 4, ax = ax)\n",
    "        interp_tpr = np.interp(mean_fpr, viz.fpr, viz.tpr)\n",
    "        interp_tpr[0] = 0.0\n",
    "        tprs.append(interp_tpr)\n",
    "        aucs.append(viz.roc_auc)\n",
    "\n",
    "    mean_tpr = np.mean(tprs, axis = 0)\n",
    "    mean_tpr[-1] = 1.0\n",
    "    mean_auc = auc(mean_fpr, mean_tpr)\n",
    "    std_auc = np.std(aucs)\n",
    "\n",
    "    ax.plot(mean_fpr, mean_tpr, color = \"blue\", label = r\"Mean ROC(AUC = %0.2f ± %0.2f)\" % (mean_auc, std_auc),\n",
    "            lw = 8, alpha = 0.9)\n",
    "\n",
    "    std_tpr = np.std(tprs, axis = 0)\n",
    "    tprs_upper = np.minimum(mean_tpr + std_tpr, 1)\n",
    "    tprs_lower = np.maximum(mean_tpr - std_tpr, 0)\n",
    "    ax.fill_between(mean_fpr, tprs_lower, tprs_upper, color = \"grey\", alpha = .2, label = \"± 1 std. dev.\")\n",
    "\n",
    "    ax.set(xlim = [-0.05, 1.05], ylim = [-0.05, 1.05])\n",
    "    ax.axis(\"square\")\n",
    "    ax.grid()  # Dropping grid line 去除网格线\n",
    "    ax.legend(loc = \"lower right\")\n",
    "    ticks = [0.0, 0.2, 0.4, 0.6, 0.8, 1.0]\n",
    "    ax.set_xlabel(\"False Positive Rate\", labelpad = 15, fontsize = 50, fontweight = \"bold\") # Distance of line and caption 拉开轴标题与刻度线距离\n",
    "    ax.set_ylabel(\"True Positive Rate\", labelpad = 15, fontsize = 50, fontweight = \"bold\")\n",
    "    ax.set_xticks(ticks, labels = ticks, fontsize = 50, fontweight = \"bold\") # Scale setting 设置刻度\n",
    "    ax.set_yticks(ticks, labels = ticks, fontsize = 50, fontweight = \"bold\")\n",
    "    plt.setp(ax.spines.values(), linewidth = 4, color = \"black\") # Line thickness setting 设置边框粗细\n",
    "    plt.plot([0, 1], [0, 1], linestyle = \"--\", color = \"black\", alpha = 0.8, lw = 4) # Diagonal drawing 绘制对角线\n",
    "    plt.tick_params(axis = \"both\", length = 10, width = 4)  # Scale thickness and longth setting 设置刻度的粗细和长度\n",
    "    # plt.savefig(f\"{n}-fold ROC.png\", dpi = 300)  # Save pic before show() 保存图片，在show()之前\n",
    "\n",
    "    plt.show()"
   ]
  },
  {
   "cell_type": "markdown",
   "id": "0d064a6e",
   "metadata": {},
   "source": [
    "#### Feature Engineering 特征筛选"
   ]
  },
  {
   "cell_type": "code",
   "execution_count": null,
   "id": "541b6b3e-9b61-4d44-bf5a-82f6a981b203",
   "metadata": {},
   "outputs": [],
   "source": [
    "GB = GradientBoostingClassifier(random_state = 42)\n",
    "\n",
    "for fn in range(10, 41, 10):\n",
    "    prin_fp = mrmr_selection(fp_tra, cate_tra, fn)\n",
    "    fe_tra = fp_tra.loc[:,prin_fp] \n",
    "    sel_pef = []\n",
    "    for scoring in criterion:\n",
    "        answer = cross_val_score(GB, fe_tra, np.array(cate_tra).ravel(), cv = SKFold, scoring = scoring)\n",
    "        sel_pef.append(answer.mean().round(3))\n",
    "\n",
    "prin_fp = mrmr_selection(fp_tra, cate_tra, 11)\n",
    "fe_tra = fp_tra.loc[:,prin_fp]"
   ]
  },
  {
   "cell_type": "markdown",
   "id": "d6a0cbd6-ac72-4b0c-902f-e935723dcb62",
   "metadata": {},
   "source": [
    "#### Azo Dataset 偶氮数据集"
   ]
  },
  {
   "cell_type": "code",
   "execution_count": null,
   "id": "4c11526c-e2da-4541-b921-f21e7fe1556c",
   "metadata": {},
   "outputs": [],
   "source": [
    "fe_all = esm_fp3.loc[:,prin_fp]\n",
    "\n",
    "fe_azo = fe_all.iloc[azos,]\n",
    "fe_naz = fe_all.drop(fe_all.index[azos])\n",
    "cate_azo = [val for ind, val in enumerate(cate) if ind in azos]\n",
    "cate_naz = [val for ind, val in enumerate(cate) if ind not in azos]\n",
    "\n",
    "GB = GradientBoostingClassifier(random_state = 42, learning_rate = 0.1, min_samples_split =13, \n",
    "                                min_samples_leaf = 1,max_depth = 5, max_features = 3, subsample = 0.8, \n",
    "                                n_estimators = 40)"
   ]
  },
  {
   "cell_type": "markdown",
   "id": "180654bd-aec2-473e-87dd-7fd08751d5b5",
   "metadata": {},
   "source": [
    "#### Azo Dataset Stratified CV 偶氮数据集分层交叉验证"
   ]
  },
  {
   "cell_type": "code",
   "execution_count": null,
   "id": "fa332d7d-e353-4f12-adef-1b2a3eb4079c",
   "metadata": {},
   "outputs": [],
   "source": [
    "X_azo = fe_azo.astype(\"float\") \n",
    "Y_azo = np.array(cate_azo).ravel()\n",
    "\n",
    "GB = GradientBoostingClassifier(random_state = 54, learning_rate = 0.1, min_samples_split =13, min_samples_leaf = 1,\n",
    "                                max_depth = 5, max_features = 3, subsample = 0.8, n_estimators = 40)\n",
    "\n",
    "azo_10 = skfold_perf(10, GB, X_azo, Y_azo)\n",
    "print(\"Acc:{}, F1 score:{}, AUC:{}\".format(azo_10[0], azo_10[1], azo_10[2]))\n",
    "print(\"10-fold confusion matrix:\")\n",
    "cm_drawing(10, GB, X_azo, Y_azo)"
   ]
  },
  {
   "cell_type": "markdown",
   "id": "0e1edf83-36ed-4400-bb1b-2bb84a2a6aff",
   "metadata": {},
   "source": [
    "#### Anthraquinone Dataset 蒽醌数据集"
   ]
  },
  {
   "cell_type": "code",
   "execution_count": null,
   "id": "f53a0094-0ed7-4000-807d-ddb835a07cc9",
   "metadata": {},
   "outputs": [],
   "source": [
    "fe_anq = fe_all.iloc[anqs,]\n",
    "fe_naq = fe_all.drop(fe_all.index[anqs])\n",
    "cate_anq = [val for ind, val in enumerate(cate) if ind in anqs]\n",
    "cate_naq = [val for ind, val in enumerate(cate) if ind not in anqs]\n",
    "\n",
    "GB = GradientBoostingClassifier(random_state = 42, learning_rate = 0.1, min_samples_split =13, \n",
    "                                min_samples_leaf = 1,max_depth = 5, max_features = 3, subsample = 0.8, \n",
    "                                n_estimators = 40)"
   ]
  },
  {
   "cell_type": "markdown",
   "id": "c637b552-4f35-441e-9744-b66abeca676e",
   "metadata": {},
   "source": [
    "#### Anthraquinone Dataset Stratified CV 蒽醌数据集分层交叉验证"
   ]
  },
  {
   "cell_type": "code",
   "execution_count": null,
   "id": "0ed91c54-fc15-4162-af98-1b2c023db152",
   "metadata": {},
   "outputs": [],
   "source": [
    "X_anq = fe_anq.astype(\"float\") \n",
    "Y_anq = np.array(cate_anq).ravel()\n",
    "\n",
    "GB = GradientBoostingClassifier(random_state = 52, learning_rate = 0.1, min_samples_split =13, \n",
    "                            min_samples_leaf = 1,max_depth = 5, max_features = 3, subsample = 0.8, \n",
    "                            n_estimators = 40)\n",
    "anq_10 = skfold_perf(10, GB, X_anq, Y_anq)\n",
    "print(\"Acc:{}, F1 score:{}, AUC:{}\".format(anq_10[0], anq_10[1], anq_10[2]))\n",
    "\n",
    "print(\"10-fold confusion matrix:\")\n",
    "cm_drawing(10, GB, X_anq, Y_anq)"
   ]
  },
  {
   "cell_type": "markdown",
   "id": "e2eced85-a642-474a-a411-278e9d8d2b53",
   "metadata": {},
   "source": [
    "#### Others Dataset Stratified CV 其他染料数据集分层交叉验证"
   ]
  },
  {
   "cell_type": "code",
   "execution_count": null,
   "id": "a15ea0d9-6436-4b74-bdb6-65ef5b1e1b61",
   "metadata": {},
   "outputs": [],
   "source": [
    "fe_oth = fe_all.iloc[oths,]\n",
    "cate_oth = [val for ind, val in enumerate(cate) if ind in oths]\n",
    "\n",
    "X_oth = fe_oth.astype(\"float\") \n",
    "Y_oth = np.array(cate_oth).ravel()\n",
    "\n",
    "GB = GradientBoostingClassifier(random_state = 42, learning_rate = 0.1, min_samples_split =13, \n",
    "                            min_samples_leaf = 1,max_depth = 5, max_features = 3, subsample = 0.8, \n",
    "                            n_estimators = 40)\n",
    "\n",
    "oth_05 = skfold_perf(5, GB, X_oth, Y_oth)\n",
    "print(\"Acc:{}, F1 score:{}, AUC:{}\".format(oth_05[0], oth_05[1], oth_05[2]))\n",
    "\n",
    "print(\"05-fold confusion matrix:\")\n",
    "cm_drawing(10, GB, X_oth, Y_oth)"
   ]
  }
 ],
 "metadata": {
  "kernelspec": {
   "display_name": "machine",
   "language": "python",
   "name": "machine"
  },
  "language_info": {
   "codemirror_mode": {
    "name": "ipython",
    "version": 3
   },
   "file_extension": ".py",
   "mimetype": "text/x-python",
   "name": "python",
   "nbconvert_exporter": "python",
   "pygments_lexer": "ipython3",
   "version": "3.8.20"
  }
 },
 "nbformat": 4,
 "nbformat_minor": 5
}
