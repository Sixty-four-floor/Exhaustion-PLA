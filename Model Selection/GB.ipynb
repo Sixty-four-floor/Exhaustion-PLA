{
 "cells": [
  {
   "cell_type": "code",
   "execution_count": null,
   "id": "d892a51c",
   "metadata": {},
   "outputs": [],
   "source": [
    "import pandas as pd\n",
    "import numpy as np\n",
    "import copy\n",
    "import seaborn as sns \n",
    "import matplotlib as mpl\n",
    "import matplotlib.pyplot as plt\n",
    "mpl.rcParams[\"font.sans-serif\"] = [\"Times New Roman\"] # change font as Times New Roman\n",
    "\n",
    "from sklearn.ensemble import GradientBoostingClassifier\n",
    "from sklearn.model_selection import cross_val_score, train_test_split, StratifiedKFold, GridSearchCV\n",
    "from sklearn.feature_selection import VarianceThreshold\n",
    "from sklearn.metrics import confusion_matrix, accuracy_score, f1_score, roc_curve, auc, roc_auc_score, RocCurveDisplay\n",
    "\n",
    "from collections import defaultdict\n",
    "from rdkit import Chem\n",
    "from rdkit import DataStructs"
   ]
  },
  {
   "cell_type": "markdown",
   "id": "93281612",
   "metadata": {},
   "source": [
    "#### Dataset Input 数据读取"
   ]
  },
  {
   "cell_type": "code",
   "execution_count": null,
   "id": "79e8cce2",
   "metadata": {},
   "outputs": [],
   "source": [
    "path = \"../Data/131 Exhaustion to PLA.xlsx\"\n",
    "nams = pd.read_excel(path, index_col = 0).index.values\n",
    "\n",
    "mac_fp = pd.read_csv(\"../Data/model_maccs.csv\").iloc[:,1:]\n",
    "pub_fp = pd.read_csv(\"../Data/model_pubchem.csv\").iloc[:,1:]\n",
    "sub_fp = pd.read_csv(\"../Data/model_substructure.csv\").iloc[:,1:]\n",
    "suc_fp = pd.read_csv(\"../Data/model_substructure count.csv\").iloc[:,1:]\n",
    "est_fp = pd.read_csv(\"../Data/model_estate.csv\").iloc[:,1:]\n",
    "\n",
    "sub_fp.index = est_fp.index = mac_fp.index = pub_fp.index = suc_fp.index = nams\n",
    "esm_fp = pd.concat([mac_fp, pub_fp, sub_fp, suc_fp, est_fp], axis = 1) \n",
    "\n",
    "exhs = pd.read_excel(path, index_col = 0)[\"Exhaustion\"]\n",
    "cate = [int(score//80) for score in exhs]"
   ]
  },
  {
   "cell_type": "markdown",
   "id": "aa938e71",
   "metadata": {},
   "source": [
    "#### Preprocessing 数据预处理"
   ]
  },
  {
   "cell_type": "code",
   "execution_count": null,
   "id": "65c141e4",
   "metadata": {},
   "outputs": [],
   "source": [
    "var = VarianceThreshold(threshold = 0)\n",
    "esm_fp2 = var.fit_transform(esm_fp)\n",
    "esm_fp2 = esm_fp.loc[:, var.get_support()]\n",
    "\n",
    "corr_matrix = esm_fp2.corr(numeric_only = True).abs()\n",
    "upper = corr_matrix.where(np.triu(np.ones(corr_matrix.shape), k = 1).astype(bool))\n",
    "to_drop = [column for column in upper.columns if any(upper[column] > 0.9)]\n",
    "esm_fp3 = esm_fp2.drop(to_drop, axis = 1)"
   ]
  },
  {
   "cell_type": "code",
   "execution_count": null,
   "id": "35fa8852",
   "metadata": {},
   "outputs": [],
   "source": [
    "SKFold = StratifiedKFold(n_splits = 10, shuffle = True, random_state = 42)\n",
    "SKFold_5 =  StratifiedKFold(n_splits = 5, shuffle = True, random_state = 42)\n",
    "criterion = {\"accuracy\":\"ACC\", \"f1_weighted\":\"F1\", \"roc_auc\":\"AUC\"}\n",
    "\n",
    "fp_tra, fp_tes, cate_tra, cate_tes = train_test_split(esm_fp3, cate, train_size = 0.8, random_state = 41, stratify = cate)"
   ]
  },
  {
   "cell_type": "markdown",
   "id": "0eb9e331",
   "metadata": {},
   "source": [
    "#### 10-fold Stratified Cross-validation 10折分层交叉验证"
   ]
  },
  {
   "cell_type": "code",
   "execution_count": null,
   "id": "1a83141f-0712-47c5-9972-505daa774f5d",
   "metadata": {},
   "outputs": [],
   "source": [
    "X = fp_tra.astype(\"float\") \n",
    "Y = np.array(cate_tra).ravel()\n",
    "\n",
    "predictions = defaultdict(list) \n",
    "GB = GradientBoostingClassifier(random_state = 42)\n",
    "for train_index, test_index in SKFold.split(X, Y):  \n",
    "    X_train, X_test = X.iloc[train_index, :], X.iloc[test_index, :]  \n",
    "    Y_train, Y_test = Y[train_index], Y[test_index] \n",
    "    \n",
    "    GB.fit(X_train, Y_train)  \n",
    "    Y_pred = GB.predict(X_test)  \n",
    "    \n",
    "    predictions['pred'].extend(Y_pred)\n",
    "    predictions['test'].extend(Y_test) "
   ]
  },
  {
   "cell_type": "markdown",
   "id": "16305be2-7c43-4e6d-badf-1e32150a8cd9",
   "metadata": {},
   "source": [
    "#### Confusion Matrix"
   ]
  },
  {
   "cell_type": "code",
   "execution_count": null,
   "id": "253d6f8f-3253-4d6e-af5d-6afa2096747f",
   "metadata": {},
   "outputs": [],
   "source": [
    "cm_10 = confusion_matrix(predictions[\"test\"], predictions[\"pred\"])\n",
    "\n",
    "sns.set_theme (style = \"whitegrid\",font = 'Times New Roman', font_scale = 2)\n",
    "plt.figure()  \n",
    "sns.heatmap(cm_10, annot = True, fmt = \".2g\", cmap = \"viridis\", linewidths = 3, vmin = 0, vmax = 60, linecolor = \"white\", square = True)\n",
    "plt.xlabel(\"Predict\", fontsize = 20)  \n",
    "plt.ylabel(\"True\", fontsize = 20)  \n",
    "plt.show()"
   ]
  },
  {
   "cell_type": "markdown",
   "id": "43d9ea86-2bff-4b8c-aeb7-bd5e801e210e",
   "metadata": {},
   "source": [
    "#### Detailed Performance"
   ]
  },
  {
   "cell_type": "code",
   "execution_count": null,
   "id": "c1c62a38-6449-47d5-aeaf-54b2ea5dcb0a",
   "metadata": {},
   "outputs": [],
   "source": [
    "performance = []\n",
    "for scoring in criterion:\n",
    "    answer = cross_val_score(GB, fp_tra, np.array(cate_tra).ravel(), cv = SKFold, scoring = scoring)\n",
    "    performance.append(answer.mean().round(3))\n",
    "\n",
    "print(performance)"
   ]
  },
  {
   "cell_type": "markdown",
   "id": "c742299c-cfe6-4357-89f9-8cf9ff55a370",
   "metadata": {},
   "source": [
    "#### ROC Curve"
   ]
  },
  {
   "cell_type": "code",
   "execution_count": null,
   "id": "cb0b0818-31ce-4a14-9903-7f4e8d643af9",
   "metadata": {},
   "outputs": [],
   "source": [
    "tprs, aucs = [], []\n",
    "mean_fpr = np.linspace(0, 1, 100)\n",
    "\n",
    "fig, ax = plt.subplots(figsize = (15, 15))\n",
    "fig.bwith = 10\n",
    "for i, (train_index, test_index) in enumerate(SKFold.split(X, Y)):\n",
    "    X_train, X_test = X.iloc[train_index, :], X.iloc[test_index, :]  \n",
    "    Y_train, Y_test = Y[train_index], Y[test_index] \n",
    "    \n",
    "    GB.fit(X_train, Y_train)\n",
    "    viz = RocCurveDisplay.from_estimator(GB, X_test, Y_test, name = \"ROC fold{}\".format(i), alpha = 0.5,\n",
    "                                         lw = 4, ax = ax)\n",
    "    interp_tpr = np.interp(mean_fpr, viz.fpr, viz.tpr)\n",
    "    interp_tpr[0] = 0.0\n",
    "    tprs.append(interp_tpr)\n",
    "    aucs.append(viz.roc_auc)\n",
    "\n",
    "mean_tpr = np.mean(tprs, axis = 0)\n",
    "mean_tpr[-1] = 1.0\n",
    "mean_auc = auc(mean_fpr, mean_tpr)\n",
    "std_auc = np.std(aucs)\n",
    "\n",
    "ax.plot(mean_fpr, mean_tpr, color = \"blue\", label = r\"Mean ROC(AUC = %0.2f ± %0.2f)\" % (mean_auc, std_auc),\n",
    "        lw = 8, alpha = 0.9)\n",
    "\n",
    "std_tpr = np.std(tprs, axis = 0)\n",
    "tprs_upper = np.minimum(mean_tpr + std_tpr, 1)\n",
    "tprs_lower = np.maximum(mean_tpr - std_tpr, 0)\n",
    "ax.fill_between(mean_fpr, tprs_lower, tprs_upper, color = \"grey\", alpha = .2, label = \"± 1 std. dev.\")\n",
    "\n",
    "ax.set(xlim = [-0.05, 1.05], ylim = [-0.05, 1.05])\n",
    "ax.axis(\"square\")\n",
    "ax.grid()\n",
    "ax.legend(loc = \"lower right\")\n",
    "ticks = [0.0, 0.2, 0.4, 0.6, 0.8, 1.0]\n",
    "ax.set_xlabel(\"False Positive Rate\", labelpad = 15, fontsize = 50, fontweight = \"bold\")\n",
    "ax.set_ylabel(\"True Positive Rate\", labelpad = 15, fontsize = 50, fontweight = \"bold\")\n",
    "ax.set_xticks(ticks, labels = ticks, fontsize = 50, fontweight = \"bold\")\n",
    "ax.set_yticks(ticks, labels = ticks, fontsize = 50, fontweight = \"bold\")\n",
    "plt.setp(ax.spines.values(), linewidth = 4, color = \"black\")\n",
    "plt.plot([0, 1], [0, 1], linestyle = \"--\", color = \"black\", alpha = 0.8, lw = 4)\n",
    "plt.tick_params(axis = \"both\", length = 10, width = 4)\n",
    "# plt.savefig(\"GB ROC.png\", dpi = 300)\n",
    "\n",
    "plt.show()"
   ]
  }
 ],
 "metadata": {
  "kernelspec": {
   "display_name": "machine",
   "language": "python",
   "name": "machine"
  },
  "language_info": {
   "codemirror_mode": {
    "name": "ipython",
    "version": 3
   },
   "file_extension": ".py",
   "mimetype": "text/x-python",
   "name": "python",
   "nbconvert_exporter": "python",
   "pygments_lexer": "ipython3",
   "version": "3.8.20"
  }
 },
 "nbformat": 4,
 "nbformat_minor": 5
}
