{
 "cells": [
  {
   "cell_type": "code",
   "execution_count": null,
   "id": "3f2af85e",
   "metadata": {},
   "outputs": [],
   "source": [
    "import pandas as pd\n",
    "import numpy as np\n",
    "import copy\n",
    "import seaborn as sns \n",
    "import matplotlib as mpl\n",
    "import matplotlib.pyplot as plt\n",
    "mpl.rcParams[\"font.sans-serif\"] = [\"Times New Roman\"] # Change font as Times New Roman\n",
    "\n",
    "from sklearn.model_selection import cross_val_score, train_test_split, StratifiedKFold\n",
    "from sklearn.model_selection import GridSearchCV\n",
    "from sklearn.preprocessing import StandardScaler\n",
    "from sklearn.pipeline import make_pipeline\n",
    "from sklearn.feature_selection import VarianceThreshold\n",
    "from sklearn.metrics import confusion_matrix, auc, accuracy_score, RocCurveDisplay\n",
    "\n",
    "from sklearn.neural_network import MLPClassifier\n",
    "from collections import defaultdict"
   ]
  },
  {
   "cell_type": "markdown",
   "id": "1bcfdf72-5cfe-438a-8e42-21d9447ee941",
   "metadata": {},
   "source": [
    "#### Data Input"
   ]
  },
  {
   "cell_type": "code",
   "execution_count": null,
   "id": "99ace6a8",
   "metadata": {},
   "outputs": [],
   "source": [
    "path = \"../Data/131 Exhaustion to PLA.xlsx\"\n",
    "nams = pd.read_excel(path, index_col = 0).index.values\n",
    "\n",
    "mac_fp = pd.read_csv(\"../Data/model_maccs.csv\").iloc[:,1:]\n",
    "pub_fp = pd.read_csv(\"../Data/model_pubchem.csv\").iloc[:,1:]\n",
    "sub_fp = pd.read_csv(\"../Data/model_substructure.csv\").iloc[:,1:]\n",
    "suc_fp = pd.read_csv(\"../Data/model_substructure count.csv\").iloc[:,1:]\n",
    "est_fp = pd.read_csv(\"../Data/model_estate.csv\").iloc[:,1:]\n",
    "\n",
    "sub_fp.index = est_fp.index = mac_fp.index = pub_fp.index = suc_fp.index = nams\n",
    "esm_fp = pd.concat([mac_fp, pub_fp, sub_fp, suc_fp, est_fp], axis = 1) \n",
    "\n",
    "exhs = pd.read_excel(path, index_col = 0)[\"Exhaustion\"]\n",
    "cate = [int(score//80) for score in exhs]"
   ]
  },
  {
   "cell_type": "markdown",
   "id": "edc63c5c-0a90-4973-af9a-19d471ba7c89",
   "metadata": {},
   "source": [
    "#### Preprocessing"
   ]
  },
  {
   "cell_type": "code",
   "execution_count": null,
   "id": "853dd75a",
   "metadata": {},
   "outputs": [],
   "source": [
    "var = VarianceThreshold(threshold = 0)\n",
    "esm_fp2 = var.fit_transform(esm_fp)\n",
    "esm_fp2 = esm_fp.loc[:, var.get_support()]\n",
    "\n",
    "corr_matrix = esm_fp2.corr(numeric_only = True).abs()\n",
    "upper = corr_matrix.where(np.triu(np.ones(corr_matrix.shape), k = 1).astype(bool))\n",
    "to_drop = [column for column in upper.columns if any(upper[column] > 0.9)]\n",
    "esm_fp3 = esm_fp2.drop(to_drop, axis = 1)"
   ]
  },
  {
   "cell_type": "code",
   "execution_count": null,
   "id": "6882f8f8",
   "metadata": {},
   "outputs": [],
   "source": [
    "SKFold = StratifiedKFold(n_splits = 10, shuffle = True, random_state = 42) \n",
    "criterion = {\"accuracy\":\"ACC\", \"f1_weighted\":\"F1\", \"roc_auc\":\"AUC\"}\n",
    "fp_tra, fp_tes, cate_tra, cate_tes = train_test_split(esm_fp3, cate, train_size = 0.8, random_state = 41, stratify = cate)"
   ]
  },
  {
   "cell_type": "markdown",
   "id": "7d7017f4-a0d1-4e24-8cf7-0a869eca5586",
   "metadata": {},
   "source": [
    "#### 10-fold Stratified Cross-validation"
   ]
  },
  {
   "cell_type": "code",
   "execution_count": null,
   "id": "a6c08162-bc78-492f-924a-91bb29fa35cd",
   "metadata": {},
   "outputs": [],
   "source": [
    "X = fp_tra.astype(\"float\") \n",
    "Y = np.array(cate_tra).ravel()\n",
    "\n",
    "predictions = defaultdict(list) \n",
    "MLP = make_pipeline(StandardScaler(), MLPClassifier(max_iter=1000, random_state = 42))\n",
    "for train_index, test_index in SKFold.split(X, Y):  \n",
    "    X_train, X_test = X.iloc[train_index, :], X.iloc[test_index, :]  \n",
    "    Y_train, Y_test = Y[train_index], Y[test_index] \n",
    "    \n",
    "    MLP.fit(X_train, Y_train)  \n",
    "    Y_pred = MLP.predict(X_test)  \n",
    "    predictions['pred'].extend(Y_pred)\n",
    "    predictions['test'].extend(Y_test) "
   ]
  },
  {
   "cell_type": "markdown",
   "id": "e94b6ff8-fc0c-42ad-b2ae-b8d317905769",
   "metadata": {},
   "source": [
    "#### Confusion Matrix"
   ]
  },
  {
   "cell_type": "code",
   "execution_count": null,
   "id": "73e55a31-ba0d-4ba1-92c8-8c4d18e11451",
   "metadata": {},
   "outputs": [],
   "source": [
    "cm_10 = confusion_matrix(predictions[\"test\"], predictions[\"pred\"])\n",
    "\n",
    "sns.set_theme (style = \"whitegrid\",font = 'Times New Roman', font_scale = 2)\n",
    "plt.figure()  \n",
    "sns.heatmap(cm_10, annot = True, fmt = \".2g\", cmap = \"viridis\", linewidths = 3, vmin = 0, vmax = 60, linecolor = \"white\", square = True)\n",
    "plt.xlabel(\"Predict\", fontsize = 20)  \n",
    "plt.ylabel(\"True\", fontsize = 20)  \n",
    "plt.show()"
   ]
  },
  {
   "cell_type": "markdown",
   "id": "0ac3dac0-d4df-44a9-867e-6e854c602680",
   "metadata": {},
   "source": [
    "#### Detailed Performance"
   ]
  },
  {
   "cell_type": "code",
   "execution_count": null,
   "id": "f71025b7",
   "metadata": {},
   "outputs": [],
   "source": [
    "performance = []\n",
    "for scoring in criterion:\n",
    "    answer = cross_val_score(MLP, fp_tra, np.array(cate_tra).ravel(), cv = SKFold, scoring = scoring)\n",
    "    performance.append(answer.mean().round(3))\n",
    "\n",
    "print(performance)"
   ]
  },
  {
   "cell_type": "markdown",
   "id": "7f26c330-d3c8-4230-9e35-d0a4d93905af",
   "metadata": {},
   "source": [
    "#### ROC Curve"
   ]
  },
  {
   "cell_type": "code",
   "execution_count": null,
   "id": "a2cfe4f7-7554-45f4-9c0b-2a3766525fab",
   "metadata": {},
   "outputs": [],
   "source": [
    "tprs, aucs = [], []\n",
    "mean_fpr = np.linspace(0, 1, 100)\n",
    "\n",
    "fig, ax = plt.subplots(figsize = (15, 15))\n",
    "fig.bwith = 10\n",
    "for i, (train_index, test_index) in enumerate(SKFold.split(X, Y)):\n",
    "    X_train, X_test = X.iloc[train_index, :], X.iloc[test_index, :]  \n",
    "    Y_train, Y_test = Y[train_index], Y[test_index] \n",
    "    \n",
    "    MLP.fit(X_train, Y_train)\n",
    "    viz = RocCurveDisplay.from_estimator(MLP, X_test, Y_test, name = \"ROC fold{}\".format(i), alpha = 0.5,\n",
    "                                         lw = 4, ax = ax)\n",
    "    interp_tpr = np.interp(mean_fpr, viz.fpr, viz.tpr)\n",
    "    interp_tpr[0] = 0.0\n",
    "    tprs.append(interp_tpr)\n",
    "    aucs.append(viz.roc_auc)\n",
    "\n",
    "mean_tpr = np.mean(tprs, axis = 0)\n",
    "mean_tpr[-1] = 1.0\n",
    "mean_auc = auc(mean_fpr, mean_tpr)\n",
    "std_auc = np.std(aucs)\n",
    "\n",
    "ax.plot(mean_fpr, mean_tpr, color = \"blue\", label = r\"Mean ROC(AUC = %0.2f ± %0.2f)\" % (mean_auc, std_auc),\n",
    "        lw = 8, alpha = 0.9)\n",
    "\n",
    "std_tpr = np.std(tprs, axis = 0)\n",
    "tprs_upper = np.minimum(mean_tpr + std_tpr, 1)\n",
    "tprs_lower = np.maximum(mean_tpr - std_tpr, 0)\n",
    "ax.fill_between(mean_fpr, tprs_lower, tprs_upper, color = \"grey\", alpha = .2, label = \"± 1 std. dev.\")\n",
    "\n",
    "ax.set(xlim = [-0.05, 1.05], ylim = [-0.05, 1.05])\n",
    "ax.axis(\"square\")\n",
    "ax.grid()\n",
    "ax.legend(loc = \"lower right\")\n",
    "ticks = [0.0, 0.2, 0.4, 0.6, 0.8, 1.0]\n",
    "ax.set_xlabel(\"False Positive Rate\", labelpad = 15, fontsize = 50, fontweight = \"bold\")\n",
    "ax.set_ylabel(\"True Positive Rate\", labelpad = 15, fontsize = 50, fontweight = \"bold\")\n",
    "ax.set_xticks(ticks, labels = ticks, fontsize = 50, fontweight = \"bold\")\n",
    "ax.set_yticks(ticks, labels = ticks, fontsize = 50, fontweight = \"bold\")\n",
    "plt.setp(ax.spines.values(), linewidth = 4, color = \"black\")\n",
    "plt.plot([0, 1], [0, 1], linestyle = \"--\", color = \"black\", alpha = 0.8, lw = 4)\n",
    "plt.tick_params(axis = \"both\", length = 10, width = 4)\n",
    "# plt.savefig(\"GB ROC.png\", dpi = 300)\n",
    "\n",
    "plt.show()"
   ]
  },
  {
   "cell_type": "code",
   "execution_count": null,
   "id": "7b7d112f-a489-4b80-ad79-ea104da1f122",
   "metadata": {},
   "outputs": [],
   "source": []
  }
 ],
 "metadata": {
  "kernelspec": {
   "display_name": "machine",
   "language": "python",
   "name": "machine"
  },
  "language_info": {
   "codemirror_mode": {
    "name": "ipython",
    "version": 3
   },
   "file_extension": ".py",
   "mimetype": "text/x-python",
   "name": "python",
   "nbconvert_exporter": "python",
   "pygments_lexer": "ipython3",
   "version": "3.8.20"
  }
 },
 "nbformat": 4,
 "nbformat_minor": 5
}
