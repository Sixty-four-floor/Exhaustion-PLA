{
 "cells": [
  {
   "cell_type": "code",
   "execution_count": null,
   "id": "e3272943-5197-4116-b40c-b2497e15a472",
   "metadata": {},
   "outputs": [],
   "source": [
    "import xgboost\n",
    "import pandas as pd\n",
    "import numpy as np\n",
    "import copy\n",
    "import matplotlib as mpl\n",
    "import matplotlib.pyplot as plt\n",
    "mpl.rcParams[\"font.sans-serif\"] = [\"Times New Roman\"] # Chang font as Times New Roman\n",
    "\n",
    "from sklearn.model_selection import cross_val_score, train_test_split, StratifiedKFold\n",
    "from sklearn.feature_selection import VarianceThreshold\n",
    "from sklearn.model_selection import GridSearchCV\n",
    "from sklearn.metrics import confusion_matrix, auc, accuracy_score, RocCurveDisplay\n",
    "\n",
    "from rdkit import Chem\n",
    "from rdkit.Chem import MolFromSmiles,MolFromSmarts\n",
    "from collections import defaultdict\n",
    "import seaborn as sns "
   ]
  },
  {
   "cell_type": "markdown",
   "id": "cb9ae267-6697-402e-bf09-8d40f9870273",
   "metadata": {},
   "source": [
    "#### Data Input"
   ]
  },
  {
   "cell_type": "code",
   "execution_count": null,
   "id": "ebf07a64-1337-4f30-b4f1-db31dc3bac38",
   "metadata": {},
   "outputs": [],
   "source": [
    "path = \"../Data/131 Exhaustion to PLA.xlsx\"\n",
    "nams = pd.read_excel(path, index_col = 0).index.values\n",
    "\n",
    "mac_fp = pd.read_csv(\"../Data/model_maccs.csv\").iloc[:,1:]\n",
    "pub_fp = pd.read_csv(\"../Data/model_pubchem.csv\").iloc[:,1:]\n",
    "sub_fp = pd.read_csv(\"../Data/model_substructure.csv\").iloc[:,1:]\n",
    "suc_fp = pd.read_csv(\"../Data/model_substructure count.csv\").iloc[:,1:]\n",
    "est_fp = pd.read_csv(\"../Data/model_estate.csv\").iloc[:,1:]\n",
    "\n",
    "sub_fp.index = est_fp.index = mac_fp.index = pub_fp.index = suc_fp.index = nams\n",
    "esm_fp = pd.concat([mac_fp, pub_fp, sub_fp, suc_fp, est_fp], axis = 1) \n",
    "\n",
    "exhs = pd.read_excel(path, index_col = 0)[\"Exhaustion\"]\n",
    "cate = [int(score//80) for score in exhs]"
   ]
  },
  {
   "cell_type": "markdown",
   "id": "9050ce3d-33eb-4774-a7ca-98d80e535fde",
   "metadata": {},
   "source": [
    "#### Preprocessing"
   ]
  },
  {
   "cell_type": "code",
   "execution_count": null,
   "id": "30668c21-e34c-43f9-97e8-5a89de7d88b9",
   "metadata": {},
   "outputs": [],
   "source": [
    "var = VarianceThreshold(threshold = 0)\n",
    "esm_fp2 = var.fit_transform(esm_fp)\n",
    "esm_fp2 = esm_fp.loc[:, var.get_support()]\n",
    "\n",
    "corr_matrix = esm_fp2.corr(numeric_only = True).abs()\n",
    "upper = corr_matrix.where(np.triu(np.ones(corr_matrix.shape), k = 1).astype(bool))\n",
    "to_drop = [column for column in upper.columns if any(upper[column] > 0.9)]\n",
    "esm_fp3 = esm_fp2.drop(to_drop, axis = 1)"
   ]
  },
  {
   "cell_type": "code",
   "execution_count": null,
   "id": "5e6fc76e-fb41-41af-ba58-5a9bcbb60b37",
   "metadata": {},
   "outputs": [],
   "source": [
    "SKFold = StratifiedKFold(n_splits = 10, shuffle = True, random_state = 42) \n",
    "criterion = {\"accuracy\":\"ACC\", \"f1_weighted\":\"F1\", \"roc_auc\":\"AUROC\"}\n",
    "fp_tra, fp_tes, cate_tra, cate_tes = train_test_split(esm_fp3, cate, train_size = 0.8, random_state = 41, stratify = cate)"
   ]
  },
  {
   "cell_type": "markdown",
   "id": "f8a918ba-e742-4ea8-8c78-f0545a5eba5e",
   "metadata": {},
   "source": [
    "#### 10-fold Stratified Cross-validation"
   ]
  },
  {
   "cell_type": "code",
   "execution_count": null,
   "id": "aa01a205-1649-4396-ad6f-00838d957a40",
   "metadata": {},
   "outputs": [],
   "source": [
    "X = fp_tra.astype(\"float\") \n",
    "Y = np.array(cate_tra).ravel()\n",
    "\n",
    "predictions = defaultdict(list) \n",
    "XGB = xgboost.XGBClassifier(random_state = 42)\n",
    "for train_index, test_index in SKFold.split(X, Y):  \n",
    "    X_train, X_test = X.iloc[train_index, :], X.iloc[test_index, :]  \n",
    "    Y_train, Y_test = Y[train_index], Y[test_index] \n",
    "    \n",
    "    XGB.fit(X_train, Y_train)  \n",
    "    Y_pred = XGB.predict(X_test)  \n",
    "    \n",
    "    predictions['pred'].extend(Y_pred)\n",
    "    predictions['test'].extend(Y_test) "
   ]
  },
  {
   "cell_type": "markdown",
   "id": "fdc6edda-a048-4d81-8355-0574971c7f60",
   "metadata": {},
   "source": [
    "#### Confusion Matrix"
   ]
  },
  {
   "cell_type": "code",
   "execution_count": null,
   "id": "062a4282-9b4b-4128-b14d-aaa10aa3f09d",
   "metadata": {},
   "outputs": [],
   "source": [
    "cm_10 = confusion_matrix(predictions[\"test\"], predictions[\"pred\"])\n",
    "\n",
    "sns.set_theme (style = \"whitegrid\",font = 'Times New Roman', font_scale = 2)\n",
    "plt.figure()  \n",
    "sns.heatmap(cm_10, annot = True, fmt = \".2g\", cmap = \"viridis\", linewidths = 3, vmin = 0, vmax = 60, linecolor = \"white\", square = True)\n",
    "plt.xlabel(\"Predict\", fontsize = 20)  \n",
    "plt.ylabel(\"True\", fontsize = 20)  \n",
    "plt.show()"
   ]
  },
  {
   "cell_type": "markdown",
   "id": "f8eb094c-ccf9-47da-acd8-6de9340d8028",
   "metadata": {},
   "source": [
    "#### Detailed Performance"
   ]
  },
  {
   "cell_type": "code",
   "execution_count": null,
   "id": "afb5d330-98a3-4312-94a6-35673241004f",
   "metadata": {},
   "outputs": [],
   "source": [
    "performance = []\n",
    "for scoring in criterion:\n",
    "    answer = cross_val_score(XGB, fp_tra, np.array(cate_tra).ravel(), cv = SKFold, scoring = scoring)\n",
    "    performance.append(answer.mean().round(3))\n",
    "\n",
    "print(performance)"
   ]
  },
  {
   "cell_type": "markdown",
   "id": "31543e40-7152-4125-a28a-8746cac7a31b",
   "metadata": {},
   "source": [
    "#### ROC Curve"
   ]
  },
  {
   "cell_type": "code",
   "execution_count": null,
   "id": "abf0ea7a-987e-4107-8751-52e8f0452980",
   "metadata": {},
   "outputs": [],
   "source": [
    "tprs, aucs = [], []\n",
    "mean_fpr = np.linspace(0, 1, 100)\n",
    "\n",
    "fig, ax = plt.subplots(figsize = (15, 15))\n",
    "fig.bwith = 10\n",
    "for i, (train_index, test_index) in enumerate(SKFold.split(X, Y)):\n",
    "    X_train, X_test = X.iloc[train_index, :], X.iloc[test_index, :]  \n",
    "    Y_train, Y_test = Y[train_index], Y[test_index] \n",
    "    \n",
    "    XGB.fit(X_train, Y_train)\n",
    "    viz = RocCurveDisplay.from_estimator(XGB, X_test, Y_test, name = \"ROC fold{}\".format(i), alpha = 0.5,\n",
    "                                         lw = 4, ax = ax)\n",
    "    interp_tpr = np.interp(mean_fpr, viz.fpr, viz.tpr)\n",
    "    interp_tpr[0] = 0.0\n",
    "    tprs.append(interp_tpr)\n",
    "    aucs.append(viz.roc_auc)\n",
    "\n",
    "mean_tpr = np.mean(tprs, axis = 0)\n",
    "mean_tpr[-1] = 1.0\n",
    "mean_auc = auc(mean_fpr, mean_tpr)\n",
    "std_auc = np.std(aucs)\n",
    "\n",
    "ax.plot(mean_fpr, mean_tpr, color = \"blue\", label = r\"Mean ROC(AUC = %0.2f ± %0.2f)\" % (mean_auc, std_auc),\n",
    "        lw = 8, alpha = 0.9)\n",
    "\n",
    "std_tpr = np.std(tprs, axis = 0)\n",
    "tprs_upper = np.minimum(mean_tpr + std_tpr, 1)\n",
    "tprs_lower = np.maximum(mean_tpr - std_tpr, 0)\n",
    "ax.fill_between(mean_fpr, tprs_lower, tprs_upper, color = \"grey\", alpha = .2, label = \"± 1 std. dev.\")\n",
    "\n",
    "ax.set(xlim = [-0.05, 1.05], ylim = [-0.05, 1.05])\n",
    "ax.axis(\"square\")\n",
    "ax.grid()\n",
    "ax.legend(loc = \"lower right\")\n",
    "ticks = [0.0, 0.2, 0.4, 0.6, 0.8, 1.0]\n",
    "ax.set_xlabel(\"False Positive Rate\", labelpad = 15, fontsize = 50, fontweight = \"bold\")\n",
    "ax.set_ylabel(\"True Positive Rate\", labelpad = 15, fontsize = 50, fontweight = \"bold\")\n",
    "ax.set_xticks(ticks, labels = ticks, fontsize = 50, fontweight = \"bold\")\n",
    "ax.set_yticks(ticks, labels = ticks, fontsize = 50, fontweight = \"bold\")\n",
    "plt.setp(ax.spines.values(), linewidth = 4, color = \"black\")\n",
    "plt.plot([0, 1], [0, 1], linestyle = \"--\", color = \"black\", alpha = 0.8, lw = 4)\n",
    "plt.tick_params(axis = \"both\", length = 10, width = 4)\n",
    "# plt.savefig(\"GB ROC.png\", dpi = 300)\n",
    "\n",
    "plt.show()"
   ]
  }
 ],
 "metadata": {
  "kernelspec": {
   "display_name": "machine",
   "language": "python",
   "name": "machine"
  },
  "language_info": {
   "codemirror_mode": {
    "name": "ipython",
    "version": 3
   },
   "file_extension": ".py",
   "mimetype": "text/x-python",
   "name": "python",
   "nbconvert_exporter": "python",
   "pygments_lexer": "ipython3",
   "version": "3.8.20"
  }
 },
 "nbformat": 4,
 "nbformat_minor": 5
}
